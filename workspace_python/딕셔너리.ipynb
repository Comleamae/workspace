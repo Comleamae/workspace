{
 "cells": [
  {
   "cell_type": "code",
   "execution_count": null,
   "metadata": {},
   "outputs": [],
   "source": [
    "#딕셔너리(Dictionary)\n",
    "#여러 데이터가 key와 value의 쌍으로 저장한 데이터"
   ]
  },
  {
   "cell_type": "code",
   "execution_count": null,
   "metadata": {},
   "outputs": [],
   "source": [
    "# 딕셔너리 생성\n",
    "dic1 = {}\n",
    "dic2 = {'name': 'kim', 'age':20}"
   ]
  },
  {
   "cell_type": "code",
   "execution_count": 1,
   "metadata": {},
   "outputs": [
    {
     "name": "stdout",
     "output_type": "stream",
     "text": [
      "{'stuNum': 3, 'stuName': 'hkd'}\n"
     ]
    }
   ],
   "source": [
    "# 중복된 key 값을 가질 수 없음\n",
    "dic3 ={\n",
    "  'stuNum':1,\n",
    "  'stuName':'hkd',\n",
    "  'stuNum':3\n",
    "}\n",
    "print(dic3)"
   ]
  },
  {
   "cell_type": "code",
   "execution_count": 9,
   "metadata": {},
   "outputs": [
    {
     "name": "stdout",
     "output_type": "stream",
     "text": [
      "{'stuNum': 3, 'stuName': 'hkd', 'stuScore': 150}\n",
      "{'stuNum': 3, 'stuName': 'hkd', 'stuScore': 'kim'}\n"
     ]
    }
   ],
   "source": [
    "# 데이터 추가\n",
    "# dic['key'] = value\n",
    "dic3['stuScore'] = 150\n",
    "print(dic3)\n",
    "\n",
    "#stuScore이라는 key 값을 'kim'으로 변경\n",
    "dic3['stuScore'] = 'kim'\n",
    "print(dic3)"
   ]
  },
  {
   "cell_type": "code",
   "execution_count": 8,
   "metadata": {},
   "outputs": [
    {
     "name": "stdout",
     "output_type": "stream",
     "text": [
      "{'modelName': 'iPhone', 'price': 10000, 'color': 'black'}\n",
      "{'modelName': 'iPhone', 'price': 10000}\n"
     ]
    }
   ],
   "source": [
    "# 데이터 삭제\n",
    "phone = {\n",
    "  'modelName': 'iPhone',\n",
    "  'price':10000,\n",
    "  'color':'black'\n",
    "}\n",
    "print(phone)\n",
    "del phone['color']\n",
    "print(phone)"
   ]
  },
  {
   "cell_type": "code",
   "execution_count": 25,
   "metadata": {},
   "outputs": [
    {
     "name": "stdout",
     "output_type": "stream",
     "text": [
      "samsung\n",
      "dict_keys(['brand', 'price', 'inch', 'color'])\n",
      "dict_values(['samsung', 10000, 24, 'white'])\n",
      "\n",
      "brand samsung\n",
      "price 10000\n",
      "inch 24\n",
      "color white\n",
      "\n"
     ]
    }
   ],
   "source": [
    "# 데이터 출력\n",
    "monitor = {\n",
    "  'brand' : 'samsung',\n",
    "  'price': 10000,\n",
    "  'inch': 24,\n",
    "  'color':'white'\n",
    "}\n",
    "\n",
    "# 브랜드만 출력\n",
    "print(monitor['brand'])\n",
    "\n",
    "# 모든 key 값 출력->리스트 형식으로 출력\n",
    "print(monitor.keys())\n",
    "\n",
    "# 모든 value 값 출력->리스트 형식으로 출력\n",
    "print(monitor.values())\n",
    "\n",
    "print()\n",
    "# 반복문을 이용한 key, value 출력\n",
    "for key in monitor.keys():\n",
    "  print(key, monitor[key])\n",
    "print()\n"
   ]
  },
  {
   "cell_type": "code",
   "execution_count": 32,
   "metadata": {},
   "outputs": [
    {
     "name": "stdout",
     "output_type": "stream",
     "text": [
      "game\n",
      "lee\n"
     ]
    }
   ],
   "source": [
    "Intro = {\n",
    "  'name': 'hong',\n",
    "  'age' : 20,\n",
    "  'hobby': ['game', 'study'],\n",
    "  'family':{\n",
    "    'mother': 'lee',\n",
    "    'father': 'hong'\n",
    "  }\n",
    "}\n",
    "\n",
    "# intro 데이터에서 첫번째 취미 출력\n",
    "# 어미니의 이름 출력\n",
    "print(Intro['hobby'][0])\n",
    "print(Intro['family']['mother'])\n"
   ]
  },
  {
   "cell_type": "code",
   "execution_count": 43,
   "metadata": {},
   "outputs": [],
   "source": [
    "# 아래의 데이터를 참고해 문제 해결\n",
    "student ={\n",
    "  'name':'hong',\n",
    "  'korScore': 0,\n",
    "  'mathScore':0\n",
    "}\n",
    "\n"
   ]
  },
  {
   "cell_type": "code",
   "execution_count": 55,
   "metadata": {},
   "outputs": [
    {
     "name": "stdout",
     "output_type": "stream",
     "text": [
      "수가 변하지 않았다\n",
      "{'name': 'hong', 'korScore': 50, 'mathScore': 50, 'totalScore': 100}\n"
     ]
    }
   ],
   "source": [
    "#위에서 선언한 딕셔너리 데이터의 국어 점수 및 수학점수를 키보드로 입력 받은 데이터로 변경\n",
    "#국어와 수학점수가 변경되었다면 총점을 저장\n",
    "#총점의 키는 'totalScore'\n",
    "kS = input('국어점수:')\n",
    "mS = input('수학점수:')\n",
    "\n",
    "# student['korScore'] = input('국어점수:')\n",
    "# student['mathScore'] = input('수학점수:')\n",
    "\n",
    "if int(kS)!=student['korScore'] or int(mS)!=student['mathScore']:\n",
    "  student['korScore'] = int(kS)\n",
    "  student['mathScore'] = int(mS)\n",
    "  student['totalScore'] = int(student['korScore']) + int(student['mathScore'])\n",
    "else:\n",
    "  print('수가 변하지 않았다')\n",
    "\n",
    "print(student)\n"
   ]
  }
 ],
 "metadata": {
  "kernelspec": {
   "display_name": "Python 3",
   "language": "python",
   "name": "python3"
  },
  "language_info": {
   "codemirror_mode": {
    "name": "ipython",
    "version": 3
   },
   "file_extension": ".py",
   "mimetype": "text/x-python",
   "name": "python",
   "nbconvert_exporter": "python",
   "pygments_lexer": "ipython3",
   "version": "3.12.4"
  }
 },
 "nbformat": 4,
 "nbformat_minor": 2
}
