{
 "cells": [
  {
   "cell_type": "code",
   "execution_count": 2,
   "metadata": {},
   "outputs": [
    {
     "data": {
      "text/plain": [
       "[6, 7]"
      ]
     },
     "execution_count": 2,
     "metadata": {},
     "output_type": "execute_result"
    }
   ],
   "source": [
    "#리스트 변수 만들 때 변수명은 절대 list 사용x\n",
    "\n",
    "#리스트 생성 \n",
    "list1 = []\n",
    "list2 = [1,2,3, 'python']\n",
    "list3 = [1,2,[3,4,5], [6,7]]\n",
    "\n",
    "#리스트 요소에 접근법\n",
    "list3[3]"
   ]
  },
  {
   "cell_type": "code",
   "execution_count": 7,
   "metadata": {},
   "outputs": [
    {
     "data": {
      "text/plain": [
       "5"
      ]
     },
     "execution_count": 7,
     "metadata": {},
     "output_type": "execute_result"
    }
   ],
   "source": [
    "list3 = [1,2,[3,4,5], [6,7]]\n",
    "\n",
    "list3[2][2]"
   ]
  },
  {
   "cell_type": "code",
   "execution_count": 13,
   "metadata": {},
   "outputs": [
    {
     "name": "stdout",
     "output_type": "stream",
     "text": [
      "[1, 2, 2]\n",
      "[1, 2, 2, 'char', [1, 2, 3]]\n"
     ]
    }
   ],
   "source": [
    "#리스트에 데이터 추가\n",
    "\n",
    "#빈 리스트 생성\n",
    "list1=[]\n",
    "\n",
    "#데이터 추가\n",
    "#1)append() 리스트의 마지막에 데이터 추가\n",
    "list1.append(1)\n",
    "list1.append(2)\n",
    "list1.append('char')\n",
    "list1.append([1,2,3])\n",
    "print(list1)"
   ]
  },
  {
   "cell_type": "code",
   "execution_count": 48,
   "metadata": {},
   "outputs": [
    {
     "name": "stdout",
     "output_type": "stream",
     "text": [
      "[1, 20, 'car', 20, 'car', 20, 'car', 20, 'car', 20, 'car', 'char', [1, 2, 3]]\n"
     ]
    }
   ],
   "source": [
    "#데이터 추가 \n",
    "#2)insert(a,b) a라는 추가할 위치에 b라는 값을 저장 \n",
    "list1.insert(1, 20)\n",
    "list1.insert(2,'car')\n",
    "print(list1)"
   ]
  },
  {
   "cell_type": "code",
   "execution_count": 50,
   "metadata": {},
   "outputs": [
    {
     "name": "stdout",
     "output_type": "stream",
     "text": [
      "삭제 전 데이터\n",
      "[1, 'car', 20, 'car', 20, 'car', 20, 'car', 20, 'car', 'char', [1, 2, 3]]\n",
      "[1, 'car', 'car', 20, 'car', 20, 'car', 20, 'car', 'char', [1, 2, 3]]\n"
     ]
    }
   ],
   "source": [
    "#리스트 데이터 삭제1\n",
    "print('삭제 전 데이터')\n",
    "print(list1)\n",
    "#remove(a) a라는 데이터를 삭제(가장 앞쪽의 값을 삭제)\n",
    "list1.remove(20)\n",
    "print('삭제 후 데이터')\n",
    "print(list1)"
   ]
  },
  {
   "cell_type": "code",
   "execution_count": 55,
   "metadata": {},
   "outputs": [
    {
     "name": "stdout",
     "output_type": "stream",
     "text": [
      "삭제 전 데이터\n",
      "[1, 2, 'python', [1, 2, 3]]\n",
      "삭제 후 데이터\n",
      "[2, 'python', [1, 2, 3]]\n"
     ]
    }
   ],
   "source": [
    "#리스트 데이터 삭제2 추천\n",
    "list4 = [1, 2, 'python', [1,2,3]]\n",
    "print('삭제 전 데이터')\n",
    "print(list4)\n",
    "\n",
    "del list4[0]\n",
    "print('삭제 후 데이터')\n",
    "print(list4)\n",
    "\n"
   ]
  },
  {
   "cell_type": "code",
   "execution_count": 52,
   "metadata": {},
   "outputs": [
    {
     "name": "stdout",
     "output_type": "stream",
     "text": [
      "[2, 'python', [1, 3]]\n"
     ]
    }
   ],
   "source": [
    "del list4[2][1]\n",
    "print(list4)"
   ]
  },
  {
   "cell_type": "code",
   "execution_count": 53,
   "metadata": {},
   "outputs": [],
   "source": [
    "# 삭제 시 주의 \n",
    "# 아래 코드는 list4라는 리스트 자체 삭제\n",
    "del list4"
   ]
  },
  {
   "cell_type": "code",
   "execution_count": 56,
   "metadata": {},
   "outputs": [
    {
     "name": "stdout",
     "output_type": "stream",
     "text": [
      "[2, 'python', [1, 2, 3]]\n"
     ]
    }
   ],
   "source": [
    "print(list4)"
   ]
  },
  {
   "cell_type": "code",
   "execution_count": 59,
   "metadata": {},
   "outputs": [],
   "source": [
    "stuNum = 10\n",
    "stunum = 11\n",
    "del stunum"
   ]
  },
  {
   "cell_type": "code",
   "execution_count": 61,
   "metadata": {},
   "outputs": [
    {
     "name": "stdout",
     "output_type": "stream",
     "text": [
      "[1, 5, 3]\n"
     ]
    }
   ],
   "source": [
    "# 리스트 데이터 수정\n",
    "list5 = [1,2,3]\n",
    "list5[1] = 5\n",
    "print(list5)"
   ]
  },
  {
   "cell_type": "code",
   "execution_count": 63,
   "metadata": {},
   "outputs": [
    {
     "name": "stdout",
     "output_type": "stream",
     "text": [
      "[1, 2, 3, 4, 5]\n",
      "[1, 2, 3, 1, 2, 3, 1, 2, 3, 1, 2, 3]\n"
     ]
    }
   ],
   "source": [
    "# 리스트 합치기\n",
    "list6 = [1,2,3] + [4,5]\n",
    "print(list6)\n",
    "\n",
    "list7 =[1,2,3]*4\n",
    "print(list7)"
   ]
  },
  {
   "cell_type": "code",
   "execution_count": 70,
   "metadata": {},
   "outputs": [
    {
     "name": "stdout",
     "output_type": "stream",
     "text": [
      "[2, 3, 4]\n",
      "[2, 3, 4, 5]\n",
      "[1, 2, 3]\n",
      "[1, 2, 3, 4, 5]\n"
     ]
    }
   ],
   "source": [
    "# 리스트의 슬라이싱: 리스트 데이터의 일부 추출 ?= 반복문 돌려서 꺼낼 필요 없다는 뜻?\n",
    "# list[a:b] a번째 요소부터 b번째 요소 전 까지 \n",
    "# a값 미 입력 시 처음부터 b 전 까지\n",
    "# b값 미 입력 시 a부터 끝까지\n",
    "# a,b전 부 미 입력 시 전체 출력과 같음\n",
    "list1 =  [1,2,3,4,5]\n",
    "print(list1[1:4])\n",
    "print(list1[1:])\n",
    "print(list1[:3])\n",
    "print(list1[:])"
   ]
  },
  {
   "cell_type": "code",
   "execution_count": 71,
   "metadata": {},
   "outputs": [
    {
     "name": "stdout",
     "output_type": "stream",
     "text": [
      "[1, 5]\n"
     ]
    }
   ],
   "source": [
    "# 슬라이싱을 이용한 데이터 삭제\n",
    "list1 = [1,2,3,4,5]\n",
    "del list1[1:4]\n",
    "print(list1)"
   ]
  },
  {
   "cell_type": "code",
   "execution_count": 81,
   "metadata": {},
   "outputs": [
    {
     "name": "stdout",
     "output_type": "stream",
     "text": [
      "[1, 7, 8, 4, 5]\n"
     ]
    }
   ],
   "source": [
    "# 슬라이싱을 이용한 데이터 수정\n",
    "list1 = [1,2,3,4,5]\n",
    "list1[1:3] = [7,8]\n",
    "print(list1)"
   ]
  },
  {
   "cell_type": "code",
   "execution_count": 85,
   "metadata": {},
   "outputs": [
    {
     "name": "stdout",
     "output_type": "stream",
     "text": [
      "5\n",
      "[2, 3, 4]\n"
     ]
    }
   ],
   "source": [
    "# 리스트의 마지막 데이터를 알고 싶을 때[-1]사용\n",
    "list1 = [1,2,3,4,5]\n",
    "print(list1[-1])\n",
    "print(list1[1:-1])"
   ]
  },
  {
   "cell_type": "code",
   "execution_count": 97,
   "metadata": {},
   "outputs": [
    {
     "name": "stdout",
     "output_type": "stream",
     "text": [
      "[10, 5, 50]\n",
      "45\n"
     ]
    }
   ],
   "source": [
    "list1 = []\n",
    "for i in range(3):\n",
    "  num = int(input(f'{i+1}번째 숫자'))\n",
    "  list1.append(num)\n",
    "print(list1)\n",
    "\n",
    "answer = max(list1) - min(list1)\n",
    "print(answer)"
   ]
  },
  {
   "cell_type": "code",
   "execution_count": 94,
   "metadata": {},
   "outputs": [],
   "source": [
    "del max\n",
    "del min"
   ]
  },
  {
   "cell_type": "code",
   "execution_count": 100,
   "metadata": {},
   "outputs": [
    {
     "name": "stdout",
     "output_type": "stream",
     "text": [
      "p\n",
      "pyt\n"
     ]
    }
   ],
   "source": [
    "#문자열도 리스트다 substring을 슬라이싱으로 대체\n",
    "name = 'python'\n",
    "print(name[0])\n",
    "print(name[0:3])"
   ]
  },
  {
   "cell_type": "code",
   "execution_count": 113,
   "metadata": {},
   "outputs": [
    {
     "name": "stdout",
     "output_type": "stream",
     "text": [
      "1\n",
      "1\n",
      "2\n",
      "4\n"
     ]
    }
   ],
   "source": [
    "# 아래 리스트에 저장된 문자열에서 'r'이라는 알파벳의 갯수 출력\n",
    "strList = ['father', 'mother', 'brother']\n",
    "cnt = 0\n",
    "for i in strList:\n",
    "  pCnt = 0\n",
    "  for p in i:\n",
    "    if p=='r':\n",
    "      # cnt=cnt+1\n",
    "      pCnt=pCnt+1\n",
    "  cnt=cnt+pCnt\n",
    "  print(pCnt)\n",
    "print(cnt)\n"
   ]
  },
  {
   "cell_type": "code",
   "execution_count": null,
   "metadata": {},
   "outputs": [],
   "source": []
  }
 ],
 "metadata": {
  "kernelspec": {
   "display_name": "Python 3",
   "language": "python",
   "name": "python3"
  },
  "language_info": {
   "codemirror_mode": {
    "name": "ipython",
    "version": 3
   },
   "file_extension": ".py",
   "mimetype": "text/x-python",
   "name": "python",
   "nbconvert_exporter": "python",
   "pygments_lexer": "ipython3",
   "version": "3.12.4"
  }
 },
 "nbformat": 4,
 "nbformat_minor": 2
}
