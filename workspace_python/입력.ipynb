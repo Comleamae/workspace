{
 "cells": [
  {
   "cell_type": "code",
   "execution_count": 1,
   "metadata": {},
   "outputs": [
    {
     "name": "stdout",
     "output_type": "stream",
     "text": [
      "입력받은 수는 5입니다\n"
     ]
    }
   ],
   "source": [
    "# 키보드로 입력받기\n",
    "# input() 사용해서 키보드로 값을 입력 받을 수 있다\n",
    "# input() 사용해서 받은 값은 문자열로 인식\n",
    "# 문자열->정수 int\n",
    "num = input('숫자를 입력하세요: ')\n",
    "print(f'입력받은 수는 {num}입니다')"
   ]
  },
  {
   "cell_type": "code",
   "execution_count": 11,
   "metadata": {},
   "outputs": [
    {
     "name": "stdout",
     "output_type": "stream",
     "text": [
      "110\n"
     ]
    }
   ],
   "source": [
    "#문자열을 정수로 변환\n",
    "r1 = int('10')\n",
    "r2 = int('100')\n",
    "print(f'{r1+r2}')"
   ]
  },
  {
   "cell_type": "code",
   "execution_count": 13,
   "metadata": {},
   "outputs": [
    {
     "name": "stdout",
     "output_type": "stream",
     "text": [
      "두 정수의 합은 82 \n"
     ]
    }
   ],
   "source": [
    "# 두 정수를 입력받아 두 정수의 합 출력\n",
    "num1 = int(input('첫번째 수 입력하세요: '))\n",
    "num2 = int(input('두번째 수 입력하세요: '))\n",
    "print(f'두 정수의 합은 {num1+num2} ')"
   ]
  },
  {
   "cell_type": "code",
   "execution_count": 14,
   "metadata": {},
   "outputs": [
    {
     "name": "stdout",
     "output_type": "stream",
     "text": [
      "이매학생은 국어20, 영어20, 수학20, 총점60, 평균20.0\n"
     ]
    }
   ],
   "source": [
    "# 키보드로 학생의 이름, 나이, 국어점수, 영어점수, 수학점수 입력받아\n",
    "# 입력받은 학생의 이름, 나이, 국어점수, 영어점수, 수학점수 및 총점과 평균출력\n",
    "sName = input('학생 이름 입력') \n",
    "kScore = int(input('국어 점수 입력'))\n",
    "eScore = int(input('영어 점수 입력')) \n",
    "mScore = int(input('수학 점수 입력')) \n",
    "print(f'{sName}학생은 국어{kScore}, 영어{eScore}, 수학{mScore}, 총점{kScore+eScore+mScore}, 평균{(kScore+eScore+mScore)/3}')"
   ]
  }
 ],
 "metadata": {
  "kernelspec": {
   "display_name": "Python 3",
   "language": "python",
   "name": "python3"
  },
  "language_info": {
   "codemirror_mode": {
    "name": "ipython",
    "version": 3
   },
   "file_extension": ".py",
   "mimetype": "text/x-python",
   "name": "python",
   "nbconvert_exporter": "python",
   "pygments_lexer": "ipython3",
   "version": "3.12.4"
  }
 },
 "nbformat": 4,
 "nbformat_minor": 2
}
