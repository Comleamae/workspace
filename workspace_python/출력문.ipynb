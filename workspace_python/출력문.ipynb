{
 "cells": [
  {
   "cell_type": "markdown",
   "metadata": {},
   "source": [
    "### jupyter 단축키\n",
    "\n",
    "* y: 코드를 실행할 수 있는 cell 변환\n",
    "* m: Markdown을 쓸 수 있는 cell로 변환\n",
    "* Ctrl + Enter: cell 실행\n",
    "* Ctrl + Space: 코드 자동완성\n",
    "* a: 선택한 cell 위에 cell 추가\n",
    "* b: 선택한 cell 아래에 cell 추가\n",
    "* dd: 선택한 cell 삭제\n"
   ]
  },
  {
   "cell_type": "markdown",
   "metadata": {},
   "source": [
    "#### 1. 파이썬에서의 출력문"
   ]
  },
  {
   "cell_type": "code",
   "execution_count": 21,
   "metadata": {},
   "outputs": [
    {
     "name": "stdout",
     "output_type": "stream",
     "text": [
      "10\n",
      "python\n",
      "python\n"
     ]
    }
   ],
   "source": [
    "# 파이썬에서 출력 할 때는 print() 함수 사용\n",
    "# () 안의 내용을 출력\n",
    "# 파이썬에서 문자열을 출력할 때는 홀따옴표나 쌍따옴표로 감싼다\n",
    "print(10)\n",
    "print('python')\n",
    "print(\"python\")"
   ]
  },
  {
   "cell_type": "code",
   "execution_count": 25,
   "metadata": {},
   "outputs": [
    {
     "name": "stdout",
     "output_type": "stream",
     "text": [
      "9\n",
      "2.5\n",
      "2\n",
      "1\n"
     ]
    }
   ],
   "source": [
    "# 출력문 안의 연산식은 연산결과 출력\n",
    "print(5+4)\n",
    "print(10/4)\n",
    "print(10//4) #나눗셈의 몫\n",
    "print(10%3) #나눗셈의 나머지"
   ]
  },
  {
   "cell_type": "code",
   "execution_count": 28,
   "metadata": {},
   "outputs": [
    {
     "name": "stdout",
     "output_type": "stream",
     "text": [
      "pythonjava\n"
     ]
    }
   ],
   "source": [
    "# 문자열 출력\n",
    "print('python'+'java')\n",
    "# print('python'+5) 문자열과 숫자의 더하기는 실행 안됨"
   ]
  },
  {
   "cell_type": "code",
   "execution_count": 30,
   "metadata": {},
   "outputs": [
    {
     "name": "stdout",
     "output_type": "stream",
     "text": [
      "10 20 python java\n"
     ]
    }
   ],
   "source": [
    "# 파이썬 만의 문법\n",
    "print(10, 20, 'python', 'java')"
   ]
  },
  {
   "cell_type": "code",
   "execution_count": 13,
   "metadata": {},
   "outputs": [
    {
     "name": "stdout",
     "output_type": "stream",
     "text": [
      "pythonpython "
     ]
    }
   ],
   "source": [
    "# print() 의 end 매개변수의 값을 변경해서 출력 후 실행 할 내용을 변경\n",
    "print('python', end='')\n",
    "print('python', end=' ')"
   ]
  }
 ],
 "metadata": {
  "kernelspec": {
   "display_name": "Python 3",
   "language": "python",
   "name": "python3"
  },
  "language_info": {
   "codemirror_mode": {
    "name": "ipython",
    "version": 3
   },
   "file_extension": ".py",
   "mimetype": "text/x-python",
   "name": "python",
   "nbconvert_exporter": "python",
   "pygments_lexer": "ipython3",
   "version": "3.12.4"
  }
 },
 "nbformat": 4,
 "nbformat_minor": 2
}
