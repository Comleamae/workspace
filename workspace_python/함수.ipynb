{
 "cells": [
  {
   "cell_type": "code",
   "execution_count": 1,
   "metadata": {},
   "outputs": [
    {
     "name": "stdout",
     "output_type": "stream",
     "text": [
      "hi~\n",
      "hello\n"
     ]
    }
   ],
   "source": [
    "# 함수 선언\n",
    "def sayHello() :\n",
    "  print('hi~')\n",
    "  print('hello')\n",
    "\n",
    "sayHello()"
   ]
  },
  {
   "cell_type": "code",
   "execution_count": 3,
   "metadata": {},
   "outputs": [],
   "source": [
    "# 리턴이 있는 함수\n",
    "def getSum():\n",
    "  return 10+20"
   ]
  },
  {
   "cell_type": "code",
   "execution_count": 4,
   "metadata": {},
   "outputs": [
    {
     "name": "stdout",
     "output_type": "stream",
     "text": [
      "30\n"
     ]
    }
   ],
   "source": [
    "print(getSum())"
   ]
  },
  {
   "cell_type": "code",
   "execution_count": 6,
   "metadata": {},
   "outputs": [
    {
     "name": "stdout",
     "output_type": "stream",
     "text": [
      "(10, 20)\n"
     ]
    }
   ],
   "source": [
    "# 파이썬은 함수에서 리턴을 여러개 할 수 있다(파이썬만 가능 나머진 툴에선 하나)\n",
    "def getNumbers():\n",
    "  return 10, 20\n",
    "print(getNumbers())"
   ]
  },
  {
   "cell_type": "code",
   "execution_count": 10,
   "metadata": {},
   "outputs": [
    {
     "name": "stdout",
     "output_type": "stream",
     "text": [
      "(10, 20)\n",
      "10 20\n"
     ]
    }
   ],
   "source": [
    "result1, result2 = getNumbers()\n",
    "result = getNumbers()\n",
    "print(result)\n",
    "# 소괄호로 들어오는 튜플이라고 함(리스트와 다르게 데이터 변경이 불가능함)\n",
    "print(result1, result2)"
   ]
  },
  {
   "cell_type": "code",
   "execution_count": 12,
   "metadata": {},
   "outputs": [
    {
     "name": "stdout",
     "output_type": "stream",
     "text": [
      "50\n"
     ]
    }
   ],
   "source": [
    "# 매개변수가 있는 함수\n",
    "def getMulti(num1, num2):\n",
    "  return num1*num2\n",
    "print(getMulti(10, 5))"
   ]
  },
  {
   "cell_type": "code",
   "execution_count": 21,
   "metadata": {},
   "outputs": [
    {
     "name": "stdout",
     "output_type": "stream",
     "text": [
      "16\n",
      "13\n",
      "11\n"
     ]
    }
   ],
   "source": [
    "# 매개변수에 default값을 지정할 수 있다 기본값을 넣어주는 행위\n",
    "# default 값은 마지막에\n",
    "def getSum(num1, num2=5, num3=10):\n",
    "  return num1+num2+num3\n",
    "print(getSum(1))\n",
    "print(getSum(1, 2))\n",
    "print(getSum(1, 5, 5))"
   ]
  },
  {
   "cell_type": "code",
   "execution_count": 22,
   "metadata": {},
   "outputs": [],
   "source": [
    "# 매개변수에 들어가는 인자를 이름으로 지정할 수 있다\n",
    "def setMember(name, age, addr):\n",
    "  print(f'이름은 {name}')\n",
    "  print(f'나이는 {age}')\n",
    "  print(f'주소는 {addr}')"
   ]
  },
  {
   "cell_type": "code",
   "execution_count": 30,
   "metadata": {},
   "outputs": [
    {
     "name": "stdout",
     "output_type": "stream",
     "text": [
      "이름은 홍 \n",
      "나이는 30\n",
      "주소는 울산\n",
      "이름은 홍 \n",
      "나이는 20\n",
      "주소는 서울\n",
      "이름은 김 \n",
      "나이는 10\n",
      "주소는 대전\n",
      "hi\n",
      "hi\n"
     ]
    }
   ],
   "source": [
    "setMember('홍', 30, '울산')\n",
    "setMember(name='홍', addr='서울', age=20)\n",
    "setMember('김', addr='대전', age=10)\n",
    "\n",
    "def myPrint(str, end ='\\n'):\n",
    "  print(str)\n",
    "\n",
    "print('hi', end='\\n')\n",
    "print('hi')"
   ]
  },
  {
   "cell_type": "code",
   "execution_count": 38,
   "metadata": {},
   "outputs": [
    {
     "name": "stdout",
     "output_type": "stream",
     "text": [
      "[1, 2, 3, 1, 5, 9]\n"
     ]
    },
    {
     "data": {
      "text/plain": [
       "9"
      ]
     },
     "execution_count": 38,
     "metadata": {},
     "output_type": "execute_result"
    }
   ],
   "source": [
    "# 매개변수로 정수로 이루어진 두 개의 리스트가 들어올 때\n",
    "# 두 리스트이 모든 요소 중 가장 큰 값을 리턴하는 함수\n",
    "def result(num1, num2):\n",
    "  print(num1+num2)\n",
    "  return max(num1+num2)\n",
    "result([1,2,3], [1,5,9])\n"
   ]
  },
  {
   "cell_type": "code",
   "execution_count": 34,
   "metadata": {},
   "outputs": [
    {
     "data": {
      "text/plain": [
       "['h', 'o', 'm']"
      ]
     },
     "execution_count": 34,
     "metadata": {},
     "output_type": "execute_result"
    }
   ],
   "source": [
    "# 매개변수로 세 개 의 문자열이 전달되면\n",
    "# 세 문자열의 2번째 글자를 모은 리스트를 리턴하는 함수\n",
    "# 단 매개변수로 전달되는 문자열은 모두 길이가 3이상인 문자열만 들어온다고 가정한다\n",
    "def result(char1, char2, char3):\n",
    "  rList =[char1[2], char2[2], char3[2]]\n",
    "  return rList\n",
    "\n",
    "result('school', 'phone', 'home')"
   ]
  }
 ],
 "metadata": {
  "kernelspec": {
   "display_name": "Python 3",
   "language": "python",
   "name": "python3"
  },
  "language_info": {
   "codemirror_mode": {
    "name": "ipython",
    "version": 3
   },
   "file_extension": ".py",
   "mimetype": "text/x-python",
   "name": "python",
   "nbconvert_exporter": "python",
   "pygments_lexer": "ipython3",
   "version": "3.12.4"
  }
 },
 "nbformat": 4,
 "nbformat_minor": 2
}
